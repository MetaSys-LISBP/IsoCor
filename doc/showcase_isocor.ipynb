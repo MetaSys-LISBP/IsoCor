{
 "cells": [
  {
   "cell_type": "markdown",
   "metadata": {},
   "source": [
    "# Showcase: `isocor` Python package"
   ]
  },
  {
   "cell_type": "code",
   "execution_count": null,
   "metadata": {},
   "outputs": [],
   "source": [
    "import isocor"
   ]
  },
  {
   "cell_type": "markdown",
   "metadata": {},
   "source": [
    "The correction of a measurement vector starts by instantiating a metabolite-specific\n",
    "*corrector* object and calling its `.correct()` method."
   ]
  },
  {
   "cell_type": "markdown",
   "metadata": {},
   "source": [
    "## Instantiation of a *corrector*"
   ]
  },
  {
   "cell_type": "markdown",
   "metadata": {},
   "source": [
    "We recommend that you use `MetaboliteCorrectorFactory`\n",
    "to choose the best correction strategy depending on your resolution:"
   ]
  },
  {
   "cell_type": "code",
   "execution_count": null,
   "metadata": {},
   "outputs": [],
   "source": [
    "corrector = isocor.mscorrectors.MetaboliteCorrectorFactory(\"C3PO\", tracer=\"13C\")\n",
    "corrector_HR = isocor.mscorrectors.MetaboliteCorrectorFactory(\"C3PO\", tracer=\"13C\", resolution=1e4, mz_of_resolution=400, charge=1)"
   ]
  },
  {
   "cell_type": "code",
   "execution_count": null,
   "metadata": {},
   "outputs": [],
   "source": [
    "corrector"
   ]
  },
  {
   "cell_type": "code",
   "execution_count": null,
   "metadata": {},
   "outputs": [],
   "source": [
    "corrector_HR"
   ]
  },
  {
   "cell_type": "markdown",
   "metadata": {},
   "source": [
    "### Watch out for default parameters!\n",
    "\n",
    "You should pay attention to the default parameters of `MetaboliteCorrectorFactory`,\n",
    "such as the mass and natural abundance stored for each isotope,\n",
    "the formula used to interpret the resolution, etc."
   ]
  },
  {
   "cell_type": "code",
   "execution_count": null,
   "metadata": {},
   "outputs": [],
   "source": [
    "corrector.data_isotopes"
   ]
  },
  {
   "cell_type": "code",
   "execution_count": null,
   "metadata": {},
   "outputs": [],
   "source": [
    "corrector.tracer_purity  # perfect purity: [0% of 12C, 100% of 13C]"
   ]
  },
  {
   "cell_type": "markdown",
   "metadata": {},
   "source": [
    "### Direct instantiation\n",
    "\n",
    "If you don't want to use the factory or want to create your own *corrector*, you can use\n",
    "`LowResMetaboliteCorrector` and\n",
    "`HighResMetaboliteCorrector` directly for respectively low and high resolution data.\n",
    "\n",
    "But keep in mind that we do not use the same algorithm at low and high resolution."
   ]
  },
  {
   "cell_type": "code",
   "execution_count": null,
   "metadata": {},
   "outputs": [],
   "source": [
    "corrector_LR  = isocor.mscorrectors.LowResMetaboliteCorrector(formula=\"C3PO\", tracer=\"13C\",\n",
    "                                                              derivative_formula=None,\n",
    "                                                              tracer_purity=[0.0, 1.0],\n",
    "                                                              data_isotopes=isocor.mscorrectors.LowResMetaboliteCorrector.DEFAULT_ISODATA,\n",
    "                                                              correct_NA_tracer= False)\n",
    "corrector_LR"
   ]
  },
  {
   "cell_type": "markdown",
   "metadata": {},
   "source": [
    "## Correction of a measurement vector"
   ]
  },
  {
   "cell_type": "markdown",
   "metadata": {},
   "source": [
    "The correction is performed on a vector of measurements through the `.correct()` method:"
   ]
  },
  {
   "cell_type": "code",
   "execution_count": null,
   "metadata": {},
   "outputs": [],
   "source": [
    "corrected_area, iso_fraction, res, m_enr = corrector.correct([0., 4000., 200., 0.])\n",
    "corrected_area"
   ]
  },
  {
   "cell_type": "markdown",
   "metadata": {},
   "source": [
    "In addition of the corrected area, `.correct()` returns:\n",
    "\n",
    "* isotopologue_fraction, that is the abundance of each tracer isotopologue (corrected area normalized to 1)\n",
    "* residuum\n",
    "* mean enrichment"
   ]
  },
  {
   "cell_type": "markdown",
   "metadata": {},
   "source": [
    "One corrector can safely be re-used for other measurements vectors (given that it is the same metabolite/derivative/parameters), for instance in another sample:"
   ]
  },
  {
   "cell_type": "code",
   "execution_count": null,
   "metadata": {},
   "outputs": [],
   "source": [
    "corrector.correct([0., 4000, 2000, 1000])"
   ]
  },
  {
   "cell_type": "markdown",
   "metadata": {},
   "source": [
    "Empty vectors will give: "
   ]
  },
  {
   "cell_type": "code",
   "execution_count": null,
   "metadata": {},
   "outputs": [],
   "source": [
    "corrector.correct([0., 0., 0., 0.])"
   ]
  },
  {
   "cell_type": "markdown",
   "metadata": {},
   "source": [
    "IsoCor check the inputs you provide and warn you if you did something unexpected:"
   ]
  },
  {
   "cell_type": "code",
   "execution_count": null,
   "metadata": {},
   "outputs": [],
   "source": [
    "try:\n",
    "    corrector.correct([0., 0., 0.])  # our corrector was defined for a C3, so we expect 4 \"peaks\" (n+1)\n",
    "except Exception as e:\n",
    "    print(e.__class__, e)"
   ]
  },
  {
   "cell_type": "markdown",
   "metadata": {},
   "source": [
    "## Readable attributes\n",
    "\n",
    "Everything is accessible from the *corrector*."
   ]
  },
  {
   "cell_type": "code",
   "execution_count": null,
   "metadata": {},
   "outputs": [],
   "source": [
    "corrector.formula"
   ]
  },
  {
   "cell_type": "markdown",
   "metadata": {},
   "source": [
    "The correction matrix is always available (computed on-the-fly at first access): "
   ]
  },
  {
   "cell_type": "code",
   "execution_count": null,
   "metadata": {},
   "outputs": [],
   "source": [
    "corrector.correction_matrix"
   ]
  },
  {
   "cell_type": "code",
   "execution_count": null,
   "metadata": {},
   "outputs": [],
   "source": [
    "corrector_HR.correction_matrix"
   ]
  },
  {
   "cell_type": "markdown",
   "metadata": {},
   "source": [
    "Of course, other attributes and parameters are available too:"
   ]
  },
  {
   "cell_type": "code",
   "execution_count": null,
   "metadata": {},
   "outputs": [],
   "source": [
    "corrector.molecular_weight"
   ]
  },
  {
   "cell_type": "code",
   "execution_count": null,
   "metadata": {},
   "outputs": [],
   "source": [
    "corrector.correct_NA_tracer"
   ]
  },
  {
   "cell_type": "markdown",
   "metadata": {},
   "source": [
    "The correction matrix is unique to a corrector object. **You should never have to set or reset the correction matrix yourself**.\n",
    "\n",
    "If you need a new correction matrix, you should re-instanciate a new corrector object.\n",
    "IsoCor forbids you to change directly the correction matrix:"
   ]
  },
  {
   "cell_type": "code",
   "execution_count": null,
   "metadata": {},
   "outputs": [],
   "source": [
    "try:\n",
    "    corrector.correction_matrix = [45]\n",
    "except Exception as e:\n",
    "    print(e.__class__, e)"
   ]
  },
  {
   "cell_type": "markdown",
   "metadata": {},
   "source": [
    "In the same vein, you should never change parameters of the corrector at runtime. IsoCor might even forbid you to do so:"
   ]
  },
  {
   "cell_type": "code",
   "execution_count": null,
   "metadata": {},
   "outputs": [],
   "source": [
    "try:\n",
    "    corrector.formula = {'H': 2, 'O': 1}\n",
    "except Exception as e:\n",
    "    print(e.__class__, e)"
   ]
  },
  {
   "cell_type": "markdown",
   "metadata": {},
   "source": [
    "As a rule of thumbs, always instantiate a new corrector if anything else than the measurement vector changed in your analysis."
   ]
  },
  {
   "cell_type": "markdown",
   "metadata": {},
   "source": [
    "## Catch the logs\n",
    "\n",
    "You can use *logging* to catch the logs. By default, logs go to the `stderr` (that is printed in Jupyter notebooks):"
   ]
  },
  {
   "cell_type": "code",
   "execution_count": null,
   "metadata": {},
   "outputs": [],
   "source": [
    "import logging\n",
    "\n",
    "logging.basicConfig(format='%(asctime)s - %(levelname)s - %(message)s', datefmt='%H:%M', level=logging.DEBUG)"
   ]
  },
  {
   "cell_type": "code",
   "execution_count": null,
   "metadata": {},
   "outputs": [],
   "source": [
    "# Let's do something silly\n",
    "isocor.MetaboliteCorrectorFactory(\"C3PO\", '13C', resolution=0.1, mz_of_resolution= 400, charge=1)"
   ]
  },
  {
   "cell_type": "code",
   "execution_count": null,
   "metadata": {},
   "outputs": [],
   "source": [
    "# it is forbidden to half-define a isocorrector\n",
    "try:\n",
    "    isocor.MetaboliteCorrectorFactory(\"C3PO\", '13C', mz_of_resolution= 400, charge=1)\n",
    "except Exception as e:\n",
    "    print(e.__class__, e)"
   ]
  }
 ],
 "metadata": {
  "kernelspec": {
   "display_name": "Python 3",
   "language": "python",
   "name": "python3"
  },
  "language_info": {
   "codemirror_mode": {
    "name": "ipython",
    "version": 3
   },
   "file_extension": ".py",
   "mimetype": "text/x-python",
   "name": "python",
   "nbconvert_exporter": "python",
   "pygments_lexer": "ipython3",
   "version": "3.6.5"
  }
 },
 "nbformat": 4,
 "nbformat_minor": 2
}
