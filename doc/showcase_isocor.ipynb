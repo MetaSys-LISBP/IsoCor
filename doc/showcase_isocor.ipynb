{
 "cells": [
  {
   "cell_type": "markdown",
   "metadata": {},
   "source": [
    "# Showcase: `isocor` Python package"
   ]
  },
  {
   "cell_type": "code",
   "execution_count": null,
   "metadata": {},
   "outputs": [],
   "source": [
    "import ../isocor as hr"
   ]
  },
  {
   "cell_type": "markdown",
   "metadata": {},
   "source": [
    "The correction of a measurement vector starts by instantiating a metabolite-specific\n",
    "*corrector* object and calling its `.correct` method."
   ]
  },
  {
   "cell_type": "markdown",
   "metadata": {},
   "source": [
    "## Instantiation of a *corrector*"
   ]
  },
  {
   "cell_type": "markdown",
   "metadata": {},
   "source": [
    "We recommend that you use `MetaboliteCorrectorFactory`\n",
    "to chose the best correction strategy depending on your resolution:"
   ]
  },
  {
   "cell_type": "code",
   "execution_count": null,
   "metadata": {},
   "outputs": [],
   "source": [
    "corrector = hr.mscorrectors.MetaboliteCorrectorFactory(\"C3PO\", tracer=\"13C\")\n",
    "corrector_HR = hr.mscorrectors.MetaboliteCorrectorFactory(\"C3PO\", tracer=\"13C\", resolution=1e4, mz_of_resolution=400)"
   ]
  },
  {
   "cell_type": "code",
   "execution_count": null,
   "metadata": {},
   "outputs": [],
   "source": [
    "corrector"
   ]
  },
  {
   "cell_type": "code",
   "execution_count": null,
   "metadata": {},
   "outputs": [],
   "source": [
    "corrector_HR"
   ]
  },
  {
   "cell_type": "markdown",
   "metadata": {},
   "source": [
    "### Watch out for default parameters!\n",
    "\n",
    "You should pay attention to the default parameters of `MetaboliteCorrectorFactory`,\n",
    "such as the mass and natural abundance stored for each isotope,\n",
    "the formula used to interpret the resolution, etc."
   ]
  },
  {
   "cell_type": "code",
   "execution_count": null,
   "metadata": {},
   "outputs": [],
   "source": [
    "corrector.data_isotopes"
   ]
  },
  {
   "cell_type": "code",
   "execution_count": null,
   "metadata": {},
   "outputs": [],
   "source": [
    "corrector.tracer_purity"
   ]
  },
  {
   "cell_type": "markdown",
   "metadata": {},
   "source": [
    "### Direct instantiation\n",
    "\n",
    "If you don't want to use the factory or want to create your own *corrector*, you can use\n",
    "`LowResMetaboliteCorrector` and\n",
    "`HighResMetaboliteCorrector` directly for respectively low and high resolution data.\n",
    "\n",
    "But keep in mind that we do not use the same algorithm at low and high resolution."
   ]
  },
  {
   "cell_type": "code",
   "execution_count": null,
   "metadata": {},
   "outputs": [],
   "source": [
    "corrector_LR  = hr.mscorrectors.LowResMetaboliteCorrector(formula=\"C3PO\", tracer=\"13C\")\n",
    "corrector_LR"
   ]
  },
  {
   "cell_type": "markdown",
   "metadata": {},
   "source": [
    "## Correction of a measurement vector"
   ]
  },
  {
   "cell_type": "markdown",
   "metadata": {},
   "source": [
    "The correction is performed on a vector of values through the correct method:"
   ]
  },
  {
   "cell_type": "code",
   "execution_count": null,
   "metadata": {},
   "outputs": [],
   "source": [
    "corrector.correct([0., 1., 1., 0.])"
   ]
  },
  {
   "cell_type": "markdown",
   "metadata": {},
   "source": [
    "One corrector can safely be re-used for other measurements vectors (given that it is the same metabolite/derivative/parameters):"
   ]
  },
  {
   "cell_type": "code",
   "execution_count": null,
   "metadata": {},
   "outputs": [],
   "source": [
    "corrector.correct([0., 100, 1., 1.])"
   ]
  },
  {
   "cell_type": "markdown",
   "metadata": {},
   "source": [
    "Empty vectors will give: "
   ]
  },
  {
   "cell_type": "code",
   "execution_count": null,
   "metadata": {},
   "outputs": [],
   "source": [
    "corrector.correct([0., 0., 0., 0.])"
   ]
  },
  {
   "cell_type": "markdown",
   "metadata": {},
   "source": [
    "IsoCor check the inputs you provide:"
   ]
  },
  {
   "cell_type": "code",
   "execution_count": null,
   "metadata": {},
   "outputs": [],
   "source": [
    "try:\n",
    "    corrector.correct([0., 0., 0.])\n",
    "except Exception as e:\n",
    "    print(e.__class__, e)"
   ]
  },
  {
   "cell_type": "markdown",
   "metadata": {},
   "source": [
    "## Readable attributes\n",
    "\n",
    "Everything is accessible from the *corrector*."
   ]
  },
  {
   "cell_type": "code",
   "execution_count": null,
   "metadata": {},
   "outputs": [],
   "source": [
    "corrector.formula"
   ]
  },
  {
   "cell_type": "markdown",
   "metadata": {},
   "source": [
    "The correction matrix is always available (computed on-the-fly at first access): "
   ]
  },
  {
   "cell_type": "code",
   "execution_count": null,
   "metadata": {},
   "outputs": [],
   "source": [
    "corrector.correction_matrix"
   ]
  },
  {
   "cell_type": "code",
   "execution_count": null,
   "metadata": {},
   "outputs": [],
   "source": [
    "corrector_HR.correction_matrix"
   ]
  },
  {
   "cell_type": "markdown",
   "metadata": {},
   "source": [
    "Of course, other attributes and parameters are available too:"
   ]
  },
  {
   "cell_type": "code",
   "execution_count": null,
   "metadata": {},
   "outputs": [],
   "source": [
    "corrector.molecular_weight"
   ]
  },
  {
   "cell_type": "code",
   "execution_count": null,
   "metadata": {},
   "outputs": [],
   "source": [
    "corrector.correction_formula"
   ]
  },
  {
   "cell_type": "markdown",
   "metadata": {},
   "source": [
    "The correction matrix is unique to a corrector object. **You should never have to set or reset the correction matrix yourself** (except for debugging, if which case you can always play with the pseudo-private \\_attributes).\n",
    "\n",
    "If you need a new correction matrix, you should re-instanciate a new corrector object.\n",
    "IsoCor forbids you to change directly the correction matrix:"
   ]
  },
  {
   "cell_type": "code",
   "execution_count": null,
   "metadata": {},
   "outputs": [],
   "source": [
    "try:\n",
    "    corrector.correction_matrix = [45]\n",
    "except Exception as e:\n",
    "    print(e.__class__, e)"
   ]
  },
  {
   "cell_type": "markdown",
   "metadata": {},
   "source": [
    "In the same vein, you should never change parameters of the corrector at runtime. IsoCor might even forbid you to do so:"
   ]
  },
  {
   "cell_type": "code",
   "execution_count": null,
   "metadata": {},
   "outputs": [],
   "source": [
    "try:\n",
    "    corrector.formula = {'H': 2, 'O': 1}\n",
    "except Exception as e:\n",
    "    print(e.__class__, e)"
   ]
  },
  {
   "cell_type": "markdown",
   "metadata": {},
   "source": [
    "## Catch the logs\n",
    "\n",
    "You can use logging to catch the logs. By default, logs go to the `stderr` (that is printed in Jupyter notebooks):"
   ]
  },
  {
   "cell_type": "code",
   "execution_count": null,
   "metadata": {},
   "outputs": [],
   "source": [
    "import logging\n",
    "\n",
    "logging.basicConfig(format='%(asctime)s - %(levelname)s - %(message)s', datefmt='%H:%M', level=logging.DEBUG)"
   ]
  },
  {
   "cell_type": "code",
   "execution_count": null,
   "metadata": {},
   "outputs": [],
   "source": [
    "# Let's do something silly\n",
    "hr.MetaboliteCorrectorFactory(\"C3PO\", '13C', resolution=0.1, mz_of_resolution= 400)"
   ]
  },
  {
   "cell_type": "code",
   "execution_count": null,
   "metadata": {},
   "outputs": [],
   "source": [
    "# it is forbidden to half-define a isocorrector\n",
    "try:\n",
    "    hr.MetaboliteCorrectorFactory(\"C3PO\", '13C', mz_of_resolution= 400)\n",
    "except Exception as e:\n",
    "    print(e.__class__, e)"
   ]
  }
 ],
 "metadata": {
  "kernelspec": {
   "display_name": "Python 3",
   "language": "python",
   "name": "python3"
  },
  "language_info": {
   "codemirror_mode": {
    "name": "ipython",
    "version": 3
   },
   "file_extension": ".py",
   "mimetype": "text/x-python",
   "name": "python",
   "nbconvert_exporter": "python",
   "pygments_lexer": "ipython3",
   "version": "3.6.5"
  }
 },
 "nbformat": 4,
 "nbformat_minor": 2
}
